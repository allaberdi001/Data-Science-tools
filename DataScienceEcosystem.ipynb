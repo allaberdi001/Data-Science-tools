{
 "cells": [
  {
   "cell_type": "markdown",
   "id": "4eea5696-235b-46ba-bf1f-cb1e432b23a1",
   "metadata": {},
   "source": [
    "# Data Science Tools and Ecosystem"
   ]
  },
  {
   "cell_type": "markdown",
   "id": "45dea352-68fb-4877-8060-ce6bec49cb94",
   "metadata": {},
   "source": [
    "### In this notebook, Data Science Tools and Ecosystem are summarized."
   ]
  },
  {
   "cell_type": "markdown",
   "id": "35fc61a2-e500-421f-a953-502ee9edd0cc",
   "metadata": {},
   "source": [
    "### Some of the popular languages used in Data Science are:\n",
    "1. Python\n",
    "2. R\n",
    "3. SQL\n",
    "4. Scala\n",
    "5. Julia"
   ]
  },
  {
   "cell_type": "markdown",
   "id": "b884cc0a-2d0b-49d5-9333-d93a59271c97",
   "metadata": {},
   "source": [
    "### Some of the commonly used libraries used by Data Scientists include:\n",
    "1. numpy\n",
    "2. pandas\n",
    "3. ggplot\n",
    "4. GGally\n",
    "5. Scikit-learn\n",
    "6. MatPlotLib"
   ]
  },
  {
   "cell_type": "markdown",
   "id": "a4f4e5e0-81b6-405c-ba82-5d78217a8c50",
   "metadata": {},
   "source": [
    "|Data Science tools|\n",
    "|---|\n",
    "|Jupyter Notebook|\n",
    "|R Studio|\n",
    "|Visual Studio code|"
   ]
  },
  {
   "cell_type": "markdown",
   "id": "4be1aff1-0d6a-464b-9c40-37d3d80e60a4",
   "metadata": {},
   "source": [
    "### Below are a few examples of evaluating arithmetic expressions in Python\n",
    "3+4"
   ]
  },
  {
   "cell_type": "code",
   "execution_count": 2,
   "id": "42b32de8-52e4-44d1-9247-0d61ddab9e75",
   "metadata": {},
   "outputs": [
    {
     "data": {
      "text/plain": [
       "17"
      ]
     },
     "execution_count": 2,
     "metadata": {},
     "output_type": "execute_result"
    }
   ],
   "source": [
    "# This a simple arithmetic expression to mutiply then add integers\n",
    "(3*4)+5"
   ]
  },
  {
   "cell_type": "code",
   "execution_count": 3,
   "id": "ac73066b-384b-4632-8080-64df04b1779b",
   "metadata": {},
   "outputs": [
    {
     "data": {
      "text/plain": [
       "3.3333333333333335"
      ]
     },
     "execution_count": 3,
     "metadata": {},
     "output_type": "execute_result"
    }
   ],
   "source": [
    "#This will convert 200 minutes to hours by diving by 60\n",
    "200/60"
   ]
  },
  {
   "cell_type": "markdown",
   "id": "9c111fff-79fd-42ca-a538-e09ad2074dcd",
   "metadata": {},
   "source": [
    " **Objectives**\n",
    " * Popular data science languages\n",
    " * Some of the data science libraries\n",
    " * Some data science tools\n",
    " * Representing and executing arithmetic operations"
   ]
  },
  {
   "cell_type": "markdown",
   "id": "df968a19-040c-41ee-baa7-3fcf4005bfe0",
   "metadata": {},
   "source": [
    "## Author\n",
    "Allaberdi Zinxaydarov"
   ]
  },
  {
   "cell_type": "code",
   "execution_count": null,
   "id": "203136f9-5179-46bb-914a-6612198e55fa",
   "metadata": {},
   "outputs": [],
   "source": []
  }
 ],
 "metadata": {
  "kernelspec": {
   "display_name": "Python 3 (ipykernel)",
   "language": "python",
   "name": "python3"
  },
  "language_info": {
   "codemirror_mode": {
    "name": "ipython",
    "version": 3
   },
   "file_extension": ".py",
   "mimetype": "text/x-python",
   "name": "python",
   "nbconvert_exporter": "python",
   "pygments_lexer": "ipython3",
   "version": "3.11.7"
  }
 },
 "nbformat": 4,
 "nbformat_minor": 5
}
